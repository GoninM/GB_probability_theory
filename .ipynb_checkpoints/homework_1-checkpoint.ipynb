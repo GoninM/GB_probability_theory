{
 "cells": [
  {
   "cell_type": "code",
   "execution_count": 2,
   "id": "7ea3eab4",
   "metadata": {},
   "outputs": [],
   "source": [
    "import numpy as np\n",
    "from math import factorial"
   ]
  },
  {
   "cell_type": "code",
   "execution_count": 3,
   "id": "3e8a3a57",
   "metadata": {},
   "outputs": [],
   "source": [
    "def combinations(n, k):\n",
    "    return int(factorial(n) / (factorial(k) * factorial(n - k)))"
   ]
  },
  {
   "cell_type": "code",
   "execution_count": 4,
   "id": "49420eb6",
   "metadata": {},
   "outputs": [],
   "source": [
    "def arrangements(n, k):\n",
    "    return int(factorial(n) / factorial(n - k))"
   ]
  },
  {
   "cell_type": "code",
   "execution_count": 5,
   "id": "15913d7d",
   "metadata": {},
   "outputs": [],
   "source": [
    "def permutations(n):\n",
    "    return int(factorial(n))"
   ]
  },
  {
   "cell_type": "markdown",
   "id": "c5039ebd",
   "metadata": {},
   "source": [
    "<h5>\n",
    "1. Из колоды в 52 карты извлекаются случайным образом 4 карты. \n",
    "\n",
    "    a) Найти вероятность того, что все карты – крести. \n",
    "\n",
    "\n",
    "</h5>"
   ]
  },
  {
   "cell_type": "markdown",
   "id": "3ad703b4",
   "metadata": {},
   "source": [
    "ход рассуждений:\n",
    "чтобы найти вероятность, нам нужно найти отношение кол-ва благобприятных исходов к общему кол-ву исходов.\n",
    "\n",
    "Общее кол-во исхдов (n_total) это кол-во всех возможных комбинаций 4 карт из 52\n",
    "\n",
    "кол-во благоприятных исходов (m_total),это кол-во всех возможных комбинаций трефовых карт из 13 доступных.\n",
    "\n",
    "\n",
    "либо\n",
    "\n",
    "вероятность вытащить 1 карту крестей:\n",
    "P(a1) = 13/52\n",
    "вторую карту:\n",
    "P(a2) = 12/51\n",
    "3-ю:\n",
    "P(a2) = 11/50\n",
    "4-ую: \n",
    "P(a2) = 10/40\n",
    "\n",
    "P = P(a1) * P(a2) * P(a3) * P(a4)\n"
   ]
  },
  {
   "cell_type": "code",
   "execution_count": 25,
   "id": "b2b90ebd",
   "metadata": {},
   "outputs": [
    {
     "data": {
      "text/plain": [
       "270725"
      ]
     },
     "execution_count": 25,
     "metadata": {},
     "output_type": "execute_result"
    }
   ],
   "source": [
    "# n_total\n",
    "n = 52\n",
    "k = 4\n",
    "n_total = combinations(n, k)\n",
    "n_total"
   ]
  },
  {
   "cell_type": "code",
   "execution_count": 26,
   "id": "f169d4bf",
   "metadata": {},
   "outputs": [
    {
     "data": {
      "text/plain": [
       "715"
      ]
     },
     "execution_count": 26,
     "metadata": {},
     "output_type": "execute_result"
    }
   ],
   "source": [
    "# m_total\n",
    "n = int(52/4)\n",
    "k = 4\n",
    "m_total = combinations(n, k)\n",
    "m_total"
   ]
  },
  {
   "cell_type": "code",
   "execution_count": 27,
   "id": "68c39088",
   "metadata": {},
   "outputs": [
    {
     "data": {
      "text/plain": [
       "0.26410564225690275"
      ]
     },
     "execution_count": 27,
     "metadata": {},
     "output_type": "execute_result"
    }
   ],
   "source": [
    "P = 100*m_total/n_total\n",
    "P"
   ]
  },
  {
   "cell_type": "code",
   "execution_count": 30,
   "id": "fdfbc6e5",
   "metadata": {},
   "outputs": [
    {
     "data": {
      "text/plain": [
       "0.26410564225690275"
      ]
     },
     "execution_count": 30,
     "metadata": {},
     "output_type": "execute_result"
    }
   ],
   "source": [
    "#вариант 2\n",
    "P_version2 = (13/52)*(12/51)*(11/50)*(10/49)*100\n",
    "P_version2"
   ]
  },
  {
   "cell_type": "markdown",
   "id": "11d2a3fa",
   "metadata": {},
   "source": [
    " <h5> б) Найти вероятность, что среди 4-х карт окажется хотя бы один туз. </h5>"
   ]
  },
  {
   "cell_type": "markdown",
   "id": "8fbc0f9e",
   "metadata": {},
   "source": [
    "Ход рассуждений:\n",
    "хотя бы один туз, значит, что там может быть или 1 туз, или 2 туза, или 3 или 4 туза. \n",
    "\n",
    "Pa1 + Pa2 + Pa3 + Pa4\n"
   ]
  },
  {
   "cell_type": "code",
   "execution_count": 50,
   "id": "6ddb088f",
   "metadata": {},
   "outputs": [
    {
     "data": {
      "text/plain": [
       "28.126327454058547"
      ]
     },
     "execution_count": 50,
     "metadata": {},
     "output_type": "execute_result"
    }
   ],
   "source": [
    "P = 100*(combinations(4, 1)*combinations(48, 3)/combinations(52, 4) + \\\n",
    "         combinations(4, 2)*combinations(48, 2)/combinations(52, 4) + \\\n",
    "         combinations(4, 3)*combinations(48, 1)/combinations(52, 4) + \\\n",
    "         combinations(4, 4)/combinations(52, 4)\n",
    "        )\n",
    "P"
   ]
  },
  {
   "cell_type": "markdown",
   "id": "46b41022",
   "metadata": {},
   "source": [
    "Вариант второй. ищем вероятность того,что не выпало ни одного туза и потом вычитаем из 1"
   ]
  },
  {
   "cell_type": "code",
   "execution_count": 51,
   "id": "6d6c8cec",
   "metadata": {},
   "outputs": [
    {
     "data": {
      "text/plain": [
       "28.12632745405854"
      ]
     },
     "execution_count": 51,
     "metadata": {},
     "output_type": "execute_result"
    }
   ],
   "source": [
    "100*(1 - combinations(48, 4)/combinations(52, 4))"
   ]
  },
  {
   "cell_type": "markdown",
   "id": "8942dbf2",
   "metadata": {},
   "source": [
    "<h5>\n",
    "2. На входной двери подъезда установлен кодовый замок, содержащий десять кнопок с цифрами от 0 до 9. Код содержит три цифры, которые нужно нажать одновременно. Какова вероятность того, что человек, не знающий код, откроет дверь с первой попытки?\n",
    "</h5>"
   ]
  },
  {
   "cell_type": "code",
   "execution_count": 57,
   "id": "f1a810a7",
   "metadata": {},
   "outputs": [
    {
     "data": {
      "text/plain": [
       "0.8333333333333333"
      ]
     },
     "execution_count": 57,
     "metadata": {},
     "output_type": "execute_result"
    }
   ],
   "source": [
    "#вариант 1. \n",
    "100*(3/10)*(2/9)*(1/8)"
   ]
  },
  {
   "cell_type": "code",
   "execution_count": 58,
   "id": "ca9ca418",
   "metadata": {},
   "outputs": [
    {
     "data": {
      "text/plain": [
       "0.8333333333333334"
      ]
     },
     "execution_count": 58,
     "metadata": {},
     "output_type": "execute_result"
    }
   ],
   "source": [
    "#вариант 2. одна комбинация из всех возможных комбинаций 3 цифр\n",
    "100*(1/combinations(10, 3))\n"
   ]
  },
  {
   "cell_type": "markdown",
   "id": "83b3bb23",
   "metadata": {},
   "source": [
    "<h5>\n",
    "В ящике имеется 15 деталей, из которых 9 окрашены. Рабочий случайным образом извлекает 3 детали. Какова вероятность того, что все извлеченные детали окрашены?\n",
    "</h5>"
   ]
  },
  {
   "cell_type": "code",
   "execution_count": 63,
   "id": "0eff6d44",
   "metadata": {},
   "outputs": [
    {
     "data": {
      "text/plain": [
       "18.461538461538463"
      ]
     },
     "execution_count": 63,
     "metadata": {},
     "output_type": "execute_result"
    }
   ],
   "source": [
    "100*(combinations(9, 3)/combinations(15, 3))\n"
   ]
  },
  {
   "cell_type": "code",
   "execution_count": 64,
   "id": "2624fb7c",
   "metadata": {},
   "outputs": [
    {
     "data": {
      "text/plain": [
       "18.46153846153846"
      ]
     },
     "execution_count": 64,
     "metadata": {},
     "output_type": "execute_result"
    }
   ],
   "source": [
    "100*(9/15)*(8/14)*(7/13)"
   ]
  },
  {
   "cell_type": "markdown",
   "id": "87002dcd",
   "metadata": {},
   "source": [
    "<h5>\n",
    "В лотерее 100 билетов. Из них 2 выигрышных. Какова вероятность того, что 2 приобретенных билета окажутся выигрышными?\n",
    "</h5>"
   ]
  },
  {
   "cell_type": "code",
   "execution_count": 61,
   "id": "19cfc1e1",
   "metadata": {},
   "outputs": [
    {
     "data": {
      "text/plain": [
       "0.0202020202020202"
      ]
     },
     "execution_count": 61,
     "metadata": {},
     "output_type": "execute_result"
    }
   ],
   "source": [
    "100*(1/combinations(100, 2))"
   ]
  },
  {
   "cell_type": "code",
   "execution_count": 62,
   "id": "3b5d94e9",
   "metadata": {},
   "outputs": [
    {
     "data": {
      "text/plain": [
       "0.020202020202020204"
      ]
     },
     "execution_count": 62,
     "metadata": {},
     "output_type": "execute_result"
    }
   ],
   "source": [
    "100*(2/100)*(1/99)"
   ]
  },
  {
   "cell_type": "code",
   "execution_count": null,
   "id": "2347670a",
   "metadata": {},
   "outputs": [],
   "source": []
  }
 ],
 "metadata": {
  "kernelspec": {
   "display_name": "Python 3 (ipykernel)",
   "language": "python",
   "name": "python3"
  },
  "language_info": {
   "codemirror_mode": {
    "name": "ipython",
    "version": 3
   },
   "file_extension": ".py",
   "mimetype": "text/x-python",
   "name": "python",
   "nbconvert_exporter": "python",
   "pygments_lexer": "ipython3",
   "version": "3.9.7"
  }
 },
 "nbformat": 4,
 "nbformat_minor": 5
}
