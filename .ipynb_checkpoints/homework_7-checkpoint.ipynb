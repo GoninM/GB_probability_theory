{
 "cells": [
  {
   "cell_type": "code",
   "execution_count": 75,
   "id": "29d047c5",
   "metadata": {},
   "outputs": [],
   "source": [
    "import numpy as np\n",
    "from scipy import stats\n",
    "import matplotlib.pyplot as plt\n",
    "%matplotlib inline"
   ]
  },
  {
   "cell_type": "code",
   "execution_count": 214,
   "id": "cd21f2e1",
   "metadata": {},
   "outputs": [],
   "source": [
    "def mse(y_hat, y):\n",
    "    return np.sum((y_hat - y)**2)/len(y)\n",
    "    "
   ]
  },
  {
   "cell_type": "markdown",
   "id": "0205c79e",
   "metadata": {},
   "source": [
    "<b>Даны значения величины заработной платы заемщиков банка (zp) и значения их поведенческого кредитного скоринга (ks): zp = [35, 45, 190, 200, 40, 70, 54, 150, 120, 110], ks = [401, 574, 874, 919, 459, 739, 653, 902, 746, 832]. Используя математические операции, посчитать коэффициенты линейной регрессии, приняв за X заработную плату (то есть, zp - признак), а за y - значения скорингового балла (то есть, ks - целевая переменная). Произвести расчет как с использованием intercept, так и без. </b>"
   ]
  },
  {
   "cell_type": "code",
   "execution_count": 96,
   "id": "f4d013af",
   "metadata": {},
   "outputs": [
    {
     "data": {
      "text/plain": [
       "array([ 35,  45, 190, 200,  40,  70,  54, 150, 120, 110])"
      ]
     },
     "execution_count": 96,
     "metadata": {},
     "output_type": "execute_result"
    }
   ],
   "source": [
    "#X = zp\n",
    "X = np.array( [35, 45, 190, 200, 40, 70, 54, 150, 120, 110])\n",
    "X"
   ]
  },
  {
   "cell_type": "code",
   "execution_count": 97,
   "id": "38b9b20d",
   "metadata": {},
   "outputs": [
    {
     "data": {
      "text/plain": [
       "array([401, 574, 874, 919, 459, 739, 653, 902, 746, 832])"
      ]
     },
     "execution_count": 97,
     "metadata": {},
     "output_type": "execute_result"
    }
   ],
   "source": [
    "#y = ks\n",
    "y = np.array([401, 574, 874, 919, 459, 739, 653, 902, 746, 832])\n",
    "y"
   ]
  },
  {
   "cell_type": "code",
   "execution_count": 98,
   "id": "8e2a4180",
   "metadata": {},
   "outputs": [
    {
     "data": {
      "text/plain": [
       "10"
      ]
     },
     "execution_count": 98,
     "metadata": {},
     "output_type": "execute_result"
    }
   ],
   "source": [
    "n=len(X)\n",
    "n"
   ]
  },
  {
   "cell_type": "markdown",
   "id": "eb11aa38",
   "metadata": {},
   "source": [
    "без использования intercept"
   ]
  },
  {
   "cell_type": "code",
   "execution_count": 99,
   "id": "c2ba40c7",
   "metadata": {},
   "outputs": [
    {
     "data": {
      "text/plain": [
       "array([[ 35],\n",
       "       [ 45],\n",
       "       [190],\n",
       "       [200],\n",
       "       [ 40],\n",
       "       [ 70],\n",
       "       [ 54],\n",
       "       [150],\n",
       "       [120],\n",
       "       [110]])"
      ]
     },
     "execution_count": 99,
     "metadata": {},
     "output_type": "execute_result"
    }
   ],
   "source": [
    "X = X.reshape((n,1))\n",
    "X"
   ]
  },
  {
   "cell_type": "code",
   "execution_count": 100,
   "id": "59529136",
   "metadata": {},
   "outputs": [
    {
     "data": {
      "text/plain": [
       "array([[401],\n",
       "       [574],\n",
       "       [874],\n",
       "       [919],\n",
       "       [459],\n",
       "       [739],\n",
       "       [653],\n",
       "       [902],\n",
       "       [746],\n",
       "       [832]])"
      ]
     },
     "execution_count": 100,
     "metadata": {},
     "output_type": "execute_result"
    }
   ],
   "source": [
    "y = y.reshape((n,1))\n",
    "y"
   ]
  },
  {
   "cell_type": "code",
   "execution_count": 101,
   "id": "d7d52847",
   "metadata": {},
   "outputs": [
    {
     "data": {
      "text/plain": [
       "array([[5.88982042]])"
      ]
     },
     "execution_count": 101,
     "metadata": {},
     "output_type": "execute_result"
    }
   ],
   "source": [
    "b_hat_1 = np.dot(np.linalg.inv(np.dot(X.T, X)),X.T@y)\n",
    "b_hat_1"
   ]
  },
  {
   "cell_type": "code",
   "execution_count": 102,
   "id": "01b9a007",
   "metadata": {},
   "outputs": [
    {
     "data": {
      "text/plain": [
       "array([[ 206.1437147 ],\n",
       "       [ 265.04191891],\n",
       "       [1119.06587983],\n",
       "       [1177.96408403],\n",
       "       [ 235.59281681],\n",
       "       [ 412.28742941],\n",
       "       [ 318.05030269],\n",
       "       [ 883.47306302],\n",
       "       [ 706.77845042],\n",
       "       [ 647.88024621]])"
      ]
     },
     "execution_count": 102,
     "metadata": {},
     "output_type": "execute_result"
    }
   ],
   "source": [
    "y_hat_1 = X@b_hat_1\n",
    "y_hat_1"
   ]
  },
  {
   "cell_type": "markdown",
   "id": "7367e8c0",
   "metadata": {},
   "source": [
    "с использованием intercept"
   ]
  },
  {
   "cell_type": "code",
   "execution_count": 103,
   "id": "c0244046",
   "metadata": {},
   "outputs": [
    {
     "data": {
      "text/plain": [
       "array([[  1.,  35.],\n",
       "       [  1.,  45.],\n",
       "       [  1., 190.],\n",
       "       [  1., 200.],\n",
       "       [  1.,  40.],\n",
       "       [  1.,  70.],\n",
       "       [  1.,  54.],\n",
       "       [  1., 150.],\n",
       "       [  1., 120.],\n",
       "       [  1., 110.]])"
      ]
     },
     "execution_count": 103,
     "metadata": {},
     "output_type": "execute_result"
    }
   ],
   "source": [
    "X2 = np.hstack([np.ones((n,1)), X])\n",
    "X2"
   ]
  },
  {
   "cell_type": "code",
   "execution_count": 104,
   "id": "fd83ca7b",
   "metadata": {},
   "outputs": [
    {
     "data": {
      "text/plain": [
       "array([[444.17735732],\n",
       "       [  2.62053888]])"
      ]
     },
     "execution_count": 104,
     "metadata": {},
     "output_type": "execute_result"
    }
   ],
   "source": [
    "b_hat_2 = np.dot(np.linalg.inv(np.dot(X2.T, X2)),X2.T@y)\n",
    "b_hat_2"
   ]
  },
  {
   "cell_type": "code",
   "execution_count": 105,
   "id": "2bce86e6",
   "metadata": {},
   "outputs": [
    {
     "data": {
      "text/plain": [
       "array([[535.89621821],\n",
       "       [562.10160703],\n",
       "       [942.07974498],\n",
       "       [968.2851338 ],\n",
       "       [548.99891262],\n",
       "       [627.61507909],\n",
       "       [585.68645697],\n",
       "       [837.25818968],\n",
       "       [758.64202321],\n",
       "       [732.43663439]])"
      ]
     },
     "execution_count": 105,
     "metadata": {},
     "output_type": "execute_result"
    }
   ],
   "source": [
    "y_hat_2=X2@b_hat_2\n",
    "y_hat_2"
   ]
  },
  {
   "cell_type": "code",
   "execution_count": 115,
   "id": "8ce2b372",
   "metadata": {},
   "outputs": [
    {
     "data": {
      "text/plain": [
       "6470.414201176659"
      ]
     },
     "execution_count": 115,
     "metadata": {},
     "output_type": "execute_result"
    }
   ],
   "source": [
    "mse(y_hat_2, y)"
   ]
  },
  {
   "cell_type": "code",
   "execution_count": 116,
   "id": "2dd2fe7a",
   "metadata": {},
   "outputs": [
    {
     "data": {
      "text/plain": [
       "56516.8584157194"
      ]
     },
     "execution_count": 116,
     "metadata": {},
     "output_type": "execute_result"
    }
   ],
   "source": [
    "mse(y_hat_1, y)"
   ]
  },
  {
   "cell_type": "code",
   "execution_count": 124,
   "id": "544c56b0",
   "metadata": {},
   "outputs": [
    {
     "data": {
      "image/png": "[encoded data removed]",
      "text/plain": [
       "<Figure size 576x432 with 1 Axes>"
      ]
     },
     "metadata": {
      "needs_background": "light"
     },
     "output_type": "display_data"
    }
   ],
   "source": [
    "plt.figure(figsize=(8,6))\n",
    "plt.scatter(X, y, label='исходные данные')\n",
    "plt.plot(X, y_hat_1, color='r', label='без интерсепта')\n",
    "plt.plot(X, y_hat_2, color='g', label='с интерсептом')\n",
    "plt.legend()\n",
    "plt.show()"
   ]
  },
  {
   "cell_type": "code",
   "execution_count": null,
   "id": "6b6a7213",
   "metadata": {},
   "outputs": [],
   "source": []
  },
  {
   "cell_type": "markdown",
   "id": "beeff7b5",
   "metadata": {},
   "source": [
    "<b>Посчитать коэффициент линейной регрессии при заработной плате (zp), используя градиентный спуск (без intercept). </b>"
   ]
  },
  {
   "cell_type": "code",
   "execution_count": 187,
   "id": "42050eef",
   "metadata": {},
   "outputs": [
    {
     "data": {
      "text/plain": [
       "1e-06"
      ]
     },
     "execution_count": 187,
     "metadata": {},
     "output_type": "execute_result"
    }
   ],
   "source": [
    "alfa = 1e-6\n",
    "alfa"
   ]
  },
  {
   "cell_type": "code",
   "execution_count": 195,
   "id": "19040200",
   "metadata": {},
   "outputs": [],
   "source": [
    "B1 = 6"
   ]
  },
  {
   "cell_type": "code",
   "execution_count": 215,
   "id": "e248c70d",
   "metadata": {},
   "outputs": [],
   "source": [
    "idx = np.arange(0, 500)\n",
    "b = []\n",
    "mse_data=[]"
   ]
  },
  {
   "cell_type": "code",
   "execution_count": 216,
   "id": "44988f09",
   "metadata": {},
   "outputs": [
    {
     "name": "stdout",
     "output_type": "stream",
     "text": [
      "step: 0 \t B = 5.9969642 \t MSE = 56675.010884630334\n",
      "step: 10 \t B = 5.970846621494791 \t MSE = 56607.305174218185\n",
      "step: 20 \t B = 5.951095515292692 \t MSE = 56568.58455176568\n",
      "step: 30 \t B = 5.936158977583853 \t MSE = 56546.44038410262\n",
      "step: 40 \t B = 5.924863399683319 \t MSE = 56533.776224013534\n",
      "step: 50 \t B = 5.916321254067367 \t MSE = 56526.53364198457\n",
      "step: 60 \t B = 5.909861358667003 \t MSE = 56522.391638560955\n",
      "step: 70 \t B = 5.904976140074413 \t MSE = 56520.02284352452\n",
      "step: 80 \t B = 5.901281751973945 \t MSE = 56518.66813920615\n",
      "step: 90 \t B = 5.898487915182776 \t MSE = 56517.893389275516\n",
      "step: 100 \t B = 5.896375109542594 \t MSE = 56517.45031291789\n",
      "step: 110 \t B = 5.894777325560616 \t MSE = 56517.19691933769\n",
      "step: 120 \t B = 5.893569020544524 \t MSE = 56517.05200457216\n",
      "step: 130 \t B = 5.892655254335584 \t MSE = 56516.96912840275\n",
      "step: 140 \t B = 5.891964229574883 \t MSE = 56516.92173185607\n",
      "step: 150 \t B = 5.891441650368923 \t MSE = 56516.89462596234\n",
      "step: 160 \t B = 5.891046456097987 \t MSE = 56516.87912421117\n",
      "step: 170 \t B = 5.890747595159783 \t MSE = 56516.87025882224\n",
      "step: 180 \t B = 5.890521585151659 \t MSE = 56516.865188742115\n",
      "step: 190 \t B = 5.890350667787621 \t MSE = 56516.86228918375\n",
      "step: 200 \t B = 5.890221413576391 \t MSE = 56516.86063093804\n",
      "step: 210 \t B = 5.890123666625901 \t MSE = 56516.859682594\n",
      "step: 220 \t B = 5.890049746664307 \t MSE = 56516.85914023987\n",
      "step: 230 \t B = 5.8899938455779335 \t MSE = 56516.85883006973\n",
      "step: 240 \t B = 5.889951571050316 \t MSE = 56516.85865268468\n",
      "step: 250 \t B = 5.889919601444694 \t MSE = 56516.858551238896\n",
      "step: 260 \t B = 5.889895424813015 \t MSE = 56516.85849322247\n",
      "step: 270 \t B = 5.889877141524623 \t MSE = 56516.85846004309\n",
      "step: 280 \t B = 5.8898633150065685 \t MSE = 56516.85844106793\n",
      "step: 290 \t B = 5.889852858867748 \t MSE = 56516.85843021613\n",
      "step: 300 \t B = 5.889844951537892 \t MSE = 56516.85842401003\n",
      "step: 310 \t B = 5.889838971714313 \t MSE = 56516.85842046079\n",
      "step: 320 \t B = 5.88983444954429 \t MSE = 56516.85841843098\n",
      "step: 330 \t B = 5.889831029707327 \t MSE = 56516.858417270145\n",
      "step: 340 \t B = 5.8898284434965475 \t MSE = 56516.85841660628\n",
      "step: 350 \t B = 5.889826487705592 \t MSE = 56516.8584162266\n",
      "step: 360 \t B = 5.889825008662088 \t MSE = 56516.858416009476\n",
      "step: 370 \t B = 5.889823890153138 \t MSE = 56516.85841588529\n",
      "step: 380 \t B = 5.889823044294129 \t MSE = 56516.85841581427\n",
      "step: 390 \t B = 5.889822404623375 \t MSE = 56516.85841577365\n",
      "step: 400 \t B = 5.889821920880022 \t MSE = 56516.85841575042\n",
      "step: 410 \t B = 5.889821555054901 \t MSE = 56516.85841573715\n",
      "step: 420 \t B = 5.889821278404031 \t MSE = 56516.858415729555\n",
      "step: 430 \t B = 5.889821069190121 \t MSE = 56516.85841572522\n",
      "step: 440 \t B = 5.8898209109746045 \t MSE = 56516.858415722716\n",
      "step: 450 \t B = 5.889820791326014 \t MSE = 56516.8584157213\n",
      "step: 460 \t B = 5.889820700843199 \t MSE = 56516.8584157205\n",
      "step: 470 \t B = 5.889820632416653 \t MSE = 56516.85841572005\n",
      "step: 480 \t B = 5.889820580669896 \t MSE = 56516.85841571976\n",
      "step: 490 \t B = 5.889820541537031 \t MSE = 56516.858415719624\n"
     ]
    }
   ],
   "source": [
    "B1 = 6\n",
    "for i in idx:\n",
    "    \n",
    "    B1 -= alfa*(2/n)*np.sum((B1*X-y)*X)\n",
    "    b.append(B1)\n",
    "    mse_data.append(mse((X*B1), y))\n",
    "    if i%10 == 0:\n",
    "        print('step: {} \\t B = {} \\t MSE = {}'.format(i, B1, mse((X*B1), y)))\n"
   ]
  },
  {
   "cell_type": "code",
   "execution_count": 219,
   "id": "1cad44c1",
   "metadata": {},
   "outputs": [
    {
     "data": {
      "image/png": "[encoded data removed]",
      "text/plain": [
       "<Figure size 432x288 with 1 Axes>"
      ]
     },
     "metadata": {
      "needs_background": "light"
     },
     "output_type": "display_data"
    }
   ],
   "source": [
    "plt.scatter(idx,b)\n",
    "plt.xlabel('step')\n",
    "plt.ylabel('B')\n",
    "plt.show()"
   ]
  },
  {
   "cell_type": "code",
   "execution_count": 223,
   "id": "23ba728b",
   "metadata": {},
   "outputs": [
    {
     "data": {
      "image/png": "[encoded data removed]",
      "text/plain": [
       "<Figure size 432x288 with 1 Axes>"
      ]
     },
     "metadata": {
      "needs_background": "light"
     },
     "output_type": "display_data"
    }
   ],
   "source": [
    "plt.scatter(idx,mse_data)\n",
    "plt.xlabel('step')\n",
    "plt.ylabel('MSE')\n",
    "plt.show()"
   ]
  },
  {
   "cell_type": "markdown",
   "id": "3a3ce5a6",
   "metadata": {},
   "source": [
    "<b> Произвести вычисления как в пункте 2, но с вычислением intercept. Учесть, что изменение коэффициентов должно производиться\n",
    "на каждом шаге одновременно (то есть изменение одного коэффициента не должно влиять на изменение другого во время одной итерации). </b>"
   ]
  },
  {
   "cell_type": "markdown",
   "id": "89ed321e",
   "metadata": {},
   "source": [
    "$MSE = \\frac{1}{N} \\sum \\limits_{i=0}^{N} (\\hat{Y}-Y_{i})^{2} = \\frac{1}{N} \\sum \\limits_{i=0}^{N} ((\\beta_{0} + \\beta_{1}X_{i})-Y_{i})^{2}$ \n",
    "\n",
    "$\\frac{d MSE}{d\\beta_{1}} = \\frac{2}{N} \\sum \\limits_{i=0}^{N} ((\\beta_{0} + \\beta_{1}X_{i})-Y_{i})X_{i})$\n",
    "\n",
    "$\\frac{d MSE}{d\\beta_{0}} = \\frac{2}{N} \\sum \\limits_{i=0}^{N} ((\\beta_{0} + \\beta_{1}X_{i})-Y_{i})$\n"
   ]
  },
  {
   "cell_type": "code",
   "execution_count": null,
   "id": "eb25bc6b",
   "metadata": {},
   "outputs": [],
   "source": [
    "B1 = 100\n",
    "B0 = 100\n",
    "alfa = 1e-6\n",
    "num_iteration = 1000\n",
    "\n",
    "b1 = []\n",
    "b0 = []\n",
    "mse_2 = []\n",
    "\n",
    "for i in range(num_iteration):\n",
    "    B1 -= alfa*(2/n)*np.sum((B1*X-y)*X)\n",
    "    B0 -= alfa*(2/n)*np.sum((B1*X-y))\n",
    "    b.append(B1)\n",
    "    mse_data.append(mse((X*B1), y))\n",
    "    if i%10 == 0:\n",
    "        print('step: {} \\t B = {} \\t MSE = {}'.format(i, B1, mse((X*B1), y)))\n"
   ]
  },
  {
   "cell_type": "code",
   "execution_count": null,
   "id": "0670c38c",
   "metadata": {},
   "outputs": [],
   "source": [
    "def dydb1():\n",
    "    pass"
   ]
  },
  {
   "cell_type": "code",
   "execution_count": null,
   "id": "17e26d39",
   "metadata": {},
   "outputs": [],
   "source": [
    "def dydb0():\n",
    "    pass"
   ]
  }
 ],
 "metadata": {
  "kernelspec": {
   "display_name": "Python 3 (ipykernel)",
   "language": "python",
   "name": "python3"
  },
  "language_info": {
   "codemirror_mode": {
    "name": "ipython",
    "version": 3
   },
   "file_extension": ".py",
   "mimetype": "text/x-python",
   "name": "python",
   "nbconvert_exporter": "python",
   "pygments_lexer": "ipython3",
   "version": "3.9.7"
  }
 },
 "nbformat": 4,
 "nbformat_minor": 5
}
