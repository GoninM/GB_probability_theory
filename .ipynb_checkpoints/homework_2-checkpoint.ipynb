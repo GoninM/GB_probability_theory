{
 "cells": [
  {
   "cell_type": "code",
   "execution_count": 19,
   "id": "65d9292c",
   "metadata": {},
   "outputs": [],
   "source": [
    "import numpy as np\n",
    "\n",
    "from math import factorial\n",
    "from math import exp"
   ]
  },
  {
   "cell_type": "code",
   "execution_count": 43,
   "id": "b37dae34",
   "metadata": {},
   "outputs": [],
   "source": [
    "def combinations(n, k):\n",
    "    return factorial(n) / (factorial(k) * factorial(n - k))"
   ]
  },
  {
   "cell_type": "code",
   "execution_count": 44,
   "id": "00be7888",
   "metadata": {},
   "outputs": [],
   "source": [
    "def arrangements(n, k):\n",
    "    return factorial(n) / factorial(n - k)"
   ]
  },
  {
   "cell_type": "code",
   "execution_count": 45,
   "id": "536f920f",
   "metadata": {},
   "outputs": [],
   "source": [
    "def permutations(n):\n",
    "    return factorial(n)"
   ]
  },
  {
   "cell_type": "markdown",
   "id": "f250c019",
   "metadata": {},
   "source": [
    "<h5>\n",
    "1. Вероятность того, что стрелок попадет в мишень, выстрелив один раз, равна 0.8. Стрелок выстрелил 100 раз. Найдите вероятность того, что стрелок попадет в цель ровно 85 раз.\n",
    "\n",
    "</h5>"
   ]
  },
  {
   "cell_type": "markdown",
   "id": "c83e97a0",
   "metadata": {},
   "source": [
    "вероятность довольно большая и кол-во событий тоже маленькое. поэтому формула Бернулли"
   ]
  },
  {
   "cell_type": "markdown",
   "id": "0fa22450",
   "metadata": {},
   "source": [
    "\\begin{equation*}\n",
    "P_n(X=k) = C_n^k p^k q^{n-k}\n",
    "\\end{equation*}\n",
    "\n",
    "\\begin{equation*}\n",
    "P_{100}(X=85) = C_{100}^{85} 0.8^{85} (1-0.8)^{100-85}\n",
    "\\end{equation*}"
   ]
  },
  {
   "cell_type": "code",
   "execution_count": 25,
   "id": "81a735fe",
   "metadata": {},
   "outputs": [
    {
     "name": "stdout",
     "output_type": "stream",
     "text": [
      "P = 4.81 %\n"
     ]
    }
   ],
   "source": [
    "n = 100\n",
    "k = 85\n",
    "p = 0.8\n",
    "\n",
    "P100 = combinations(n, k) * (p**(k)) * ((1-p)**(n-k))\n",
    "print(f'P = {round(100*P100, 2)} %')"
   ]
  },
  {
   "cell_type": "markdown",
   "id": "e4570c00",
   "metadata": {},
   "source": [
    "<h5>\n",
    "2. Вероятность того, что лампочка перегорит в течение первого дня эксплуатации, равна 0.0004. В жилом комплексе после ремонта в один день включили 5000 новых лампочек. Какова вероятность, что ни одна из них не перегорит в первый день? Какова вероятность, что перегорят ровно две?\n",
    "</h5>\n"
   ]
  },
  {
   "cell_type": "markdown",
   "id": "70758187",
   "metadata": {},
   "source": [
    "вероятность маленькая и событий много, поэтому распределение Пуассона"
   ]
  },
  {
   "cell_type": "markdown",
   "id": "7bcf6022",
   "metadata": {},
   "source": [
    "$$P_m \\approx \\frac{\\lambda^m}{m!}e^{-\\lambda}$$\n",
    "$${\\lambda}=np$$"
   ]
  },
  {
   "cell_type": "code",
   "execution_count": 48,
   "id": "f1d729a1",
   "metadata": {},
   "outputs": [
    {
     "name": "stdout",
     "output_type": "stream",
     "text": [
      "P = 13.53 %\n"
     ]
    }
   ],
   "source": [
    "#Какова вероятность, что ни одна из них не перегорит в первый день?\n",
    "m = 0\n",
    "n = 5000\n",
    "p = 0.0004\n",
    "a = n*p\n",
    "P0 = (a**m)*exp(-a)/factorial(m)\n",
    "print(f\"P = {round(100*P0, 2)} %\")"
   ]
  },
  {
   "cell_type": "code",
   "execution_count": 47,
   "id": "bb4f0be3",
   "metadata": {},
   "outputs": [
    {
     "name": "stdout",
     "output_type": "stream",
     "text": [
      "P = 27.07 %\n"
     ]
    }
   ],
   "source": [
    "#Какова вероятность, что перегорят ровно две? \n",
    "m = 2\n",
    "n = 5000\n",
    "p = 0.0004\n",
    "a = n*p\n",
    "P2 = (a**m)*exp(-a)/factorial(m)\n",
    "print(f\"P = {round(100*P2, 2)} %\")"
   ]
  },
  {
   "cell_type": "markdown",
   "id": "83cbabab",
   "metadata": {},
   "source": [
    "<h5>3. Монету подбросили 144 раза. Какова вероятность, что орел выпадет ровно 70 раз?</h5>\n"
   ]
  },
  {
   "cell_type": "code",
   "execution_count": 70,
   "id": "5a4d3798",
   "metadata": {},
   "outputs": [
    {
     "name": "stdout",
     "output_type": "stream",
     "text": [
      "P = 6.281178035144776 %\n"
     ]
    }
   ],
   "source": [
    "#вероятность довольно большая и кол-во событий тоже маленькое. поэтому формула Бернулли\n",
    "\n",
    "n = 144\n",
    "k = 70\n",
    "p = 0.5\n",
    "\n",
    "P144 = combinations(n, k) * (p**(k)) * ((1-p)**(n-k))\n",
    "print(f'P = {100*P144} %')\n"
   ]
  },
  {
   "cell_type": "code",
   "execution_count": 69,
   "id": "a338e2c7",
   "metadata": {},
   "outputs": [],
   "source": [
    "#\n",
    "# karr = [_ for _ in range(0, 145)]\n",
    "# parr = []\n",
    "# for k in karr:\n",
    "#     parr.append(combinations(n, k) * (p**(k)) * ((1-p)**(n-k)))\n",
    "    \n",
    "# print(sum(parr))\n",
    "# print(parr[70])\n"
   ]
  },
  {
   "cell_type": "markdown",
   "id": "f98bac94",
   "metadata": {},
   "source": [
    "<h5>\n",
    "4. В первом ящике находится 10 мячей, из которых 7 - белые. Во втором ящике - 11 мячей, из которых 9 белых. Из каждого ящика вытаскивают случайным образом по два мяча. Какова вероятность того, что все мячи белые? Какова вероятность того, что ровно два мяча белые? Какова вероятность того, что хотя бы один мяч белый?\n",
    "</h5>\n"
   ]
  },
  {
   "cell_type": "code",
   "execution_count": 77,
   "id": "14a9c7ea",
   "metadata": {},
   "outputs": [
    {
     "name": "stdout",
     "output_type": "stream",
     "text": [
      "P1 = 46.667 %\n",
      "P2 = 65.455 %\n",
      "P = P1*P2 = 30.545 %\n"
     ]
    }
   ],
   "source": [
    "# Какова вероятность того, что все мячи белые? \n",
    "\n",
    "#p1\n",
    "n_balls_1 = 10\n",
    "n_white_balls_1 = 7\n",
    "k1 = 2\n",
    "\n",
    "n_balls_2 = 11\n",
    "n_white_balls_2 = 9\n",
    "k2 = 2\n",
    "\n",
    "#вероятность вытащить из первого ящика 2 белых\n",
    "p1 = combinations(n_white_balls_1, k1)/combinations(n_balls_1, k1)\n",
    "print(f'P1 = {round(100*p1, 3)} %')\n",
    "\n",
    "#вероятность вытащить из второго ящика 2 белых\n",
    "p2 = combinations(n_white_balls_2, k2)/combinations(n_balls_2, k2)\n",
    "print(f'P2 = {round(100*p2, 3)} %')\n",
    "\n",
    "pres = p1 * p2\n",
    "print(f'P = P1*P2 = {round(100*pres, 3)} %')\n"
   ]
  },
  {
   "cell_type": "code",
   "execution_count": 83,
   "id": "e79358dc",
   "metadata": {},
   "outputs": [
    {
     "name": "stdout",
     "output_type": "stream",
     "text": [
      "p1_2 = 46.667 %\n",
      "p2_0 = 1.818 %\n",
      "p1_1 = 38.889 %\n",
      "p2_1 = 24.545 %\n",
      "p1_0 = 6.667 %\n",
      "p2_2 = 65.455 %\n",
      "P = p1_2*p2_0 + p1_1*p2_1 + p1_0*p2_2 = 14.758 %\n"
     ]
    }
   ],
   "source": [
    "# Какова вероятность того, что ровно два мяча белые? \n",
    "# тут не сказано каких мяча и из какой корзины, то есть может быть так:\n",
    "# оба белых из первого ящика\n",
    "# один из первого, второй из второго\n",
    "# оба из второго ящика\n",
    "# нужно это учесть\n",
    "# будет сумма вероятностей.\n",
    "\n",
    "\n",
    "\n",
    "n_1 = 10\n",
    "n_w_1 = 7\n",
    "\n",
    "n_2 = 11\n",
    "n_w_2 = 9\n",
    "\n",
    "#p1_2 - вероятность того, что из первого ящика оба белых\n",
    "p1_2 = (n_w_1/n_1)*((n_w_1-1)/(n_1-1))\n",
    "print(f'p1_2 = {round(100*p1, 3)} %')\n",
    "\n",
    "#p2_0 - вероятность того, что из второго ящика не вытащили белых\n",
    "p2_0 = ((n_2-n_w_2)/(n_2)) * ((n_2-n_w_2-1)/(n_2-1))\n",
    "print(f'p2_0 = {round(100*p2_0, 3)} %')\n",
    "\n",
    "#p1_1 - вероятность того, что из первого ящика один белый\n",
    "# варианта 2 мы сначала вытаскиваем белый и потом не белый, либо сначала небелый, а потом белый \n",
    "p1_1 = (n_w_1/n_1)*((n_1 - n_w_1 - 1)/(n_1 - 1)) + ((n_1 - n_w_1)/(n_1))*((n_w_1)/(n_1 - 1))\n",
    "print(f'p1_1 = {round(100*p1_1, 3)} %')\n",
    "\n",
    "#p2_1 - вероятность того, что из второго ящика один белый\n",
    "# варианта 2 мы сначала вытаскиваем белый и потом не белый, либо сначала небелый, а потом белый \n",
    "p2_1 = (n_w_2/n_2)*((n_2 - n_w_2 - 1)/(n_2 - 1)) + ((n_2 - n_w_2)/(n_2))*((n_w_2)/(n_2 - 1))\n",
    "print(f'p2_1 = {round(100*p2_1, 3)} %')\n",
    "\n",
    "#p1_0 - вероятность того, что из первого ящика оба НЕ белых\n",
    "p1_0 = ((n_1 - n_w_1)/n_1)*((n_1 - n_w_1 - 1)/(n_1-1))\n",
    "print(f'p1_0 = {round(100*p1_0, 3)} %')\n",
    "\n",
    "#p2_2 - вероятность того, что из второго ящика вытащили оба белых\n",
    "p2_2 = ((n_w_2)/(n_2)) * ((n_w_2-1)/(n_2-1))\n",
    "print(f'p2_2 = {round(100*p2_2, 3)} %')\n",
    "\n",
    "P = p1_2*p2_0 + p1_1*p2_1 + p1_0*p2_2\n",
    "print(f'P = p1_2*p2_0 + p1_1*p2_1 + p1_0*p2_2 = {round(100*P, 3)} %')\n"
   ]
  },
  {
   "cell_type": "code",
   "execution_count": 111,
   "id": "4c655bb3",
   "metadata": {},
   "outputs": [
    {
     "name": "stdout",
     "output_type": "stream",
     "text": [
      "p1 = 93.333 %\n",
      "p2 = 98.182 %\n",
      "P = p1 + p2 - p1*p2 =  99.879 %\n"
     ]
    }
   ],
   "source": [
    "#Какова вероятность того, что хотя бы один мяч белый?\n",
    "# тут может быть 1 белый, 2 белых, 3 белых или 4 белых. причем 1 белый может быть либо из одного ящика, либо из другого. \n",
    "# нужно это учесть\n",
    "# как правильно сдлать, видимо что либо из первого ящика хотя бы 1 белый, либо из второго хотя бы один белый. \n",
    "# будет сумма вероятностей.\n",
    "\n",
    "#p1\n",
    "n_1 = 10\n",
    "n_w_1 = 7\n",
    "\n",
    "n_2 = 11\n",
    "n_w_2 = 9\n",
    "\n",
    "#вероятность вытащить из первого ящика хотя бы 1 белый\n",
    "p1_1 = 1 - combinations((n_1 - n_w_1), 2)/combinations(n_1, 2)\n",
    "print(f'p1 = {round(100*p1_1, 3)} %')\n",
    "\n",
    "#вероятность вытащить из второго ящика хотя бы 1 белый\n",
    "p2_1 = 1 - combinations((n_2 - n_w_2), 2)/combinations(n_2, 2)\n",
    "print(f'p2 = {round(100*p2_1, 3)} %')\n",
    "\n",
    "\n",
    "P = p1_1 + p2_1 - p1_1*p2_1\n",
    "print(f'P = p1 + p2 - p1*p2 =  {round(100*P, 3)} %')\n"
   ]
  },
  {
   "cell_type": "code",
   "execution_count": null,
   "id": "214a6639",
   "metadata": {},
   "outputs": [],
   "source": []
  }
 ],
 "metadata": {
  "kernelspec": {
   "display_name": "Python 3 (ipykernel)",
   "language": "python",
   "name": "python3"
  },
  "language_info": {
   "codemirror_mode": {
    "name": "ipython",
    "version": 3
   },
   "file_extension": ".py",
   "mimetype": "text/x-python",
   "name": "python",
   "nbconvert_exporter": "python",
   "pygments_lexer": "ipython3",
   "version": "3.9.7"
  }
 },
 "nbformat": 4,
 "nbformat_minor": 5
}
