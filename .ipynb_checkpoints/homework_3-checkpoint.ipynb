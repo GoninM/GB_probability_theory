{
 "cells": [
  {
   "cell_type": "markdown",
   "id": "2eb89c99",
   "metadata": {},
   "source": [
    "## Урок 3.\n",
    "\n"
   ]
  },
  {
   "cell_type": "code",
   "execution_count": 2,
   "id": "ea5fe9a8",
   "metadata": {},
   "outputs": [],
   "source": [
    "import numpy as np\n",
    "from math import factorial"
   ]
  },
  {
   "cell_type": "code",
   "execution_count": 3,
   "id": "6dfca5b9",
   "metadata": {},
   "outputs": [],
   "source": [
    "def combinations(n, k):\n",
    "    return factorial(n) / (factorial(k) * factorial(n - k))"
   ]
  },
  {
   "cell_type": "markdown",
   "id": "e08faf6b",
   "metadata": {},
   "source": [
    "#### 1. Даны значения зарплат из выборки выпускников: 100, 80, 75, 77, 89, 33, 45, 25, 65, 17, 30, 24, 57, 55, 70, 75, 65, 84, 90, 150. Посчитать (желательно без использования статистических методов наподобие std, var, mean) среднее арифметическое, среднее квадратичное отклонение, смещенную и несмещенную оценки дисперсий для данной выборки.\n"
   ]
  },
  {
   "cell_type": "code",
   "execution_count": 4,
   "id": "f2b9a1f1",
   "metadata": {},
   "outputs": [
    {
     "name": "stdout",
     "output_type": "stream",
     "text": [
      "среднее арифметическое = 65.3\n",
      "среднее арифметическое, используя mean = 65.3\n",
      "\n",
      "среднее квадратичное отклонение = 30.823854398825596\n",
      "среднее квадратичное отклонение, используя std= 30.823854398825596\n",
      "\n",
      "смещенную оценка дисперсии для данной выборки = 950.11\n",
      "смещенную оценка дисперсии для данной выборки, используя var(ddof=0) = 950.11\n",
      "\n",
      "несмещенную оценка дисперсии для данной выборки = 1000.1157894736842\n",
      "несмещенную оценка дисперсии для данной выборки, используя var(ddof=1) = 1000.1157894736842\n"
     ]
    }
   ],
   "source": [
    "data = np.array([100, 80, 75, 77, 89, 33, 45, 25, 65, 17, 30, 24, 57, 55, 70, 75, 65, 84, 90, 150])\n",
    "\n",
    "N = len(data)\n",
    "\n",
    "#делаю совсем без методов.\n",
    "#среднее арифметическое\n",
    "avg = 0\n",
    "for d in data:\n",
    "    avg += d\n",
    "    \n",
    "avg /= N\n",
    "\n",
    "print(f'среднее арифметическое = {avg}')\n",
    "print(f'среднее арифметическое, используя mean = {data.mean()}')\n",
    "\n",
    "\n",
    "# среднее квадратичное отклонение\n",
    "\n",
    "data_std = 0\n",
    "for d in data:\n",
    "    data_std += (d - avg)**2\n",
    "\n",
    "data_std /= N\n",
    "data_std = np.sqrt(data_std)\n",
    "\n",
    "print('')\n",
    "print(f'среднее квадратичное отклонение = {data_std}')\n",
    "print(f'среднее квадратичное отклонение, используя std= {data.std()}')\n",
    "\n",
    "# смещенную оценка дисперсии для данной выборки\n",
    "data_var = data_std**2\n",
    "\n",
    "print('')\n",
    "print(f'смещенную оценка дисперсии для данной выборки = {data_var}')\n",
    "print(f'смещенную оценка дисперсии для данной выборки, используя var(ddof=0) = {data.var(ddof=0)}')\n",
    "\n",
    "\n",
    "# несмещенная оценка дисперсии для данной выборки\n",
    "data_var_n = 0\n",
    "for d in data:\n",
    "    data_var_n += (d - avg)**2\n",
    "\n",
    "data_var_n /= (N-1)\n",
    "\n",
    "print('')\n",
    "print(f'несмещенную оценка дисперсии для данной выборки = {data_var_n}')\n",
    "print(f'несмещенную оценка дисперсии для данной выборки, используя var(ddof=1) = {data.var(ddof=1)}')\n"
   ]
  },
  {
   "cell_type": "markdown",
   "id": "967152c2",
   "metadata": {},
   "source": [
    "#### 2.В первом ящике находится 8 мячей, из которых 5 - белые. Во втором ящике - 12 мячей, из которых 5 белых. Из первого ящика вытаскивают случайным образом два мяча, из второго - 4. Какова вероятность того, что 3 мяча белые?\n"
   ]
  },
  {
   "cell_type": "markdown",
   "id": "9b70bff6",
   "metadata": {},
   "source": [
    "ход мыслей:\n",
    "\n",
    "всего вытащили 6 мячей.\n",
    "2 мяча из первого, 4 из второго.\n",
    "3 белых.\n",
    "возможные варианты:\n",
    "\n",
    "из первого 2 белых и из второго 1 белый.\n",
    "или\n",
    "из первого 1 белый и из второго 2 белых\n",
    "или\n",
    "из первого 0 белых и из второго 3 белых\n",
    "\n"
   ]
  },
  {
   "cell_type": "code",
   "execution_count": 9,
   "id": "bad79b14",
   "metadata": {},
   "outputs": [
    {
     "name": "stdout",
     "output_type": "stream",
     "text": [
      "вероятность вытащить из первого 2 белых и из второго 1 белый равна 12.626%\n",
      "вероятность вытащить из первого 1 белый и из второго 2 белых равна 22.727%\n",
      "вероятность вытащить из первого 0 белых и из второго 3 белых равна 1.515%\n",
      " вероятность того, что 3 мяча белые равна 36.869%\n"
     ]
    }
   ],
   "source": [
    "#решение исправлял, т.к. забыл про комбинации черных шаров.\n",
    "n1 = 8\n",
    "nw1 = 5\n",
    "nb1 = n1-nw1\n",
    "\n",
    "n2 = 12\n",
    "nw2 = 5\n",
    "nb2 = n2-nw2\n",
    "\n",
    "#p1 = из первого 2 белых и из второго 1 белый.\n",
    "p1 = 100*(combinations(nw1, 2)*combinations(nb1, 0)/combinations(n1, 2))\\\n",
    "        *(combinations(nw2, 1)*combinations(nb2, 3)/combinations(n2, 4))\n",
    "print(f'вероятность вытащить из первого 2 белых и из второго 1 белый равна {round(p1, 3)}%')\n",
    "\n",
    "#p1 = из первого 1 белый и из второго 2 белых.\n",
    "p2 = 100*(combinations(nw1, 1)*combinations(nb1, 1)/combinations(n1, 2))\\\n",
    "        *(combinations(nw2, 2)*combinations(nb2, 2)/combinations(n2, 4))\n",
    "print(f'вероятность вытащить из первого 1 белый и из второго 2 белых равна {round(p2, 3)}%')\n",
    "\n",
    "#p1 = из первого 0 белых и из второго 3 белых.\n",
    "p3 = 100*(combinations(nw1, 0)*combinations(nb1, 2)/combinations(n1, 2))\\\n",
    "        *(combinations(nw2, 3)*combinations(nb2, 1)/combinations(n2, 4))\n",
    "print(f'вероятность вытащить из первого 0 белых и из второго 3 белых равна {round(p3, 3)}%')\n",
    "\n",
    "p = p1+p2+p3\n",
    "print(f' вероятность того, что 3 мяча белые равна {round(p, 3)}%')\n",
    "\n"
   ]
  },
  {
   "cell_type": "markdown",
   "id": "c134cecc",
   "metadata": {},
   "source": [
    "#### 3. На соревновании по биатлону один из трех спортсменов стреляет и попадает в мишень. Вероятность попадания для первого спортсмена равна 0.9, для второго — 0.8, для третьего — 0.6. Найти вероятность того, что выстрел произведен: a). первым спортсменом б). вторым спортсменом в). третьим спортсменом.\n",
    "    "
   ]
  },
  {
   "cell_type": "markdown",
   "id": "040b4432",
   "metadata": {},
   "source": [
    "1 - 0.9\n",
    "2 - 0.8\n",
    "3 - 0.6\n",
    "\n",
    "стрелляет только один из трех.\n",
    "формула байеса\n"
   ]
  },
  {
   "cell_type": "markdown",
   "id": "b8095781",
   "metadata": {},
   "source": [
    "$$P(B\\:|\\:A) = \\frac{P(B) \\cdot P(A\\:|\\:B)}{P(A)}$$"
   ]
  },
  {
   "cell_type": "code",
   "execution_count": 35,
   "id": "84cea695",
   "metadata": {},
   "outputs": [],
   "source": [
    "p1 = 0.9\n",
    "p2 = 0.8\n",
    "p3 = 0.6\n"
   ]
  },
  {
   "cell_type": "code",
   "execution_count": 37,
   "id": "5dc20358",
   "metadata": {},
   "outputs": [
    {
     "data": {
      "text/plain": [
       "0.7666666666666666"
      ]
     },
     "execution_count": 37,
     "metadata": {},
     "output_type": "execute_result"
    }
   ],
   "source": [
    "pa = (1/3)*p1 + (1/3)*p2 + (1/3)*p3\n",
    "pa"
   ]
  },
  {
   "cell_type": "code",
   "execution_count": 44,
   "id": "5465147a",
   "metadata": {},
   "outputs": [
    {
     "data": {
      "text/plain": [
       "0.391304347826087"
      ]
     },
     "execution_count": 44,
     "metadata": {},
     "output_type": "execute_result"
    }
   ],
   "source": [
    "# a) первым спортсменом\n",
    "\n",
    "pb1 = (1/3)*(p1)/pa\n",
    "pb1\n"
   ]
  },
  {
   "cell_type": "code",
   "execution_count": 45,
   "id": "4afedd99",
   "metadata": {},
   "outputs": [
    {
     "data": {
      "text/plain": [
       "0.3478260869565218"
      ]
     },
     "execution_count": 45,
     "metadata": {},
     "output_type": "execute_result"
    }
   ],
   "source": [
    "# б)  вторым спортсменом\n",
    "\n",
    "pb2 = (1/3)*(p2)/pa\n",
    "pb2"
   ]
  },
  {
   "cell_type": "code",
   "execution_count": 46,
   "id": "b7d54299",
   "metadata": {},
   "outputs": [
    {
     "data": {
      "text/plain": [
       "0.2608695652173913"
      ]
     },
     "execution_count": 46,
     "metadata": {},
     "output_type": "execute_result"
    }
   ],
   "source": [
    "# в) третьим спортсменом\n",
    "\n",
    "pb3 = (1/3)*(p3)/pa\n",
    "pb3"
   ]
  },
  {
   "cell_type": "markdown",
   "id": "c2f24a23",
   "metadata": {},
   "source": [
    "#### 4. В университет на факультеты A и B поступило равное количество студентов, а на факультет C студентов поступило столько же, сколько на A и B вместе. Вероятность того, что студент факультета A сдаст первую сессию, равна 0.8. Для студента факультета B эта вероятность равна 0.7, а для студента факультета C - 0.9. Студент сдал первую сессию. Какова вероятность, что он учится: a). на факультете A б). на факультете B в). на факультете C?\n"
   ]
  },
  {
   "cell_type": "markdown",
   "id": "c861f0b7",
   "metadata": {},
   "source": [
    "тоже через формулу байеса\n",
    "\n",
    "событие А - считаем сдачу сессии\n",
    "\n",
    "событие В1 - студент с факультета А\n",
    "\n",
    "событие В2 - студент с факультета В\n",
    "\n",
    "событие В3 - студент с факультета С\n",
    "\n",
    "пусть N кол-во студентов на факультете А\n",
    "\n",
    "тогда на факультете В - N студентов\n",
    "\n",
    "на факультете С - 2*N студентов\n",
    "\n",
    "всего студентов = N + N + 2*N = 4*N\n",
    "\n"
   ]
  },
  {
   "cell_type": "code",
   "execution_count": 67,
   "id": "548756ab",
   "metadata": {},
   "outputs": [],
   "source": [
    "pa = 0.8 # вероятность того, что студент факультета А сдаст сессию\n",
    "pb = 0.7 # вероятность того, что студент факультета В сдаст сессию\n",
    "pc = 0.9 # вероятность того, что студент факультета С сдаст сессию\n",
    "\n"
   ]
  },
  {
   "cell_type": "code",
   "execution_count": 59,
   "id": "0601505f",
   "metadata": {},
   "outputs": [],
   "source": [
    "pb_a = 1/4 # вероятность того, что студент с факультета А\n",
    "pb_b = 1/4 # вероятность того, что студент с факультета В\n",
    "pb_c = 2/4 # вероятность того, что студент с факультета С"
   ]
  },
  {
   "cell_type": "code",
   "execution_count": 60,
   "id": "fb79c87b",
   "metadata": {},
   "outputs": [],
   "source": [
    "PA = (1/4)*pa + (1/4)*pb + (2/4)*pc"
   ]
  },
  {
   "cell_type": "code",
   "execution_count": 61,
   "id": "c3c7c4b5",
   "metadata": {},
   "outputs": [
    {
     "data": {
      "text/plain": [
       "0.24242424242424246"
      ]
     },
     "execution_count": 61,
     "metadata": {},
     "output_type": "execute_result"
    }
   ],
   "source": [
    "# учится: a). на факультете A\n",
    "p1 = pb_a*pa/PA\n",
    "p1"
   ]
  },
  {
   "cell_type": "code",
   "execution_count": 62,
   "id": "d2a3f278",
   "metadata": {},
   "outputs": [
    {
     "data": {
      "text/plain": [
       "0.21212121212121213"
      ]
     },
     "execution_count": 62,
     "metadata": {},
     "output_type": "execute_result"
    }
   ],
   "source": [
    "# учится: б). на факультете В\n",
    "p2 = pb_b*pb/PA\n",
    "p2"
   ]
  },
  {
   "cell_type": "code",
   "execution_count": 64,
   "id": "91239c5c",
   "metadata": {},
   "outputs": [
    {
     "data": {
      "text/plain": [
       "0.5454545454545455"
      ]
     },
     "execution_count": 64,
     "metadata": {},
     "output_type": "execute_result"
    }
   ],
   "source": [
    "# учится: в). на факультете С\n",
    "p3 = pb_c*pc/PA\n",
    "p3"
   ]
  },
  {
   "cell_type": "markdown",
   "id": "0f8e6f36",
   "metadata": {},
   "source": [
    "#### 5. Устройство состоит из трех деталей. Для первой детали вероятность выйти из строя в первый месяц равна 0.1, для второй - 0.2, для третьей - 0.25. Какова вероятность того, что в первый месяц выйдут из строя: а). все детали б). только две детали в). хотя бы одна деталь г). от одной до двух деталей?\n"
   ]
  },
  {
   "cell_type": "code",
   "execution_count": 10,
   "id": "06d2b23f",
   "metadata": {},
   "outputs": [],
   "source": [
    "p1 = 0.1\n",
    "p2 = 0.2\n",
    "p3 = 0.25"
   ]
  },
  {
   "cell_type": "markdown",
   "id": "af717f35",
   "metadata": {},
   "source": [
    "в первый месяц выйдут из строя: а). все детали"
   ]
  },
  {
   "cell_type": "code",
   "execution_count": 12,
   "id": "c800214d",
   "metadata": {},
   "outputs": [
    {
     "name": "stdout",
     "output_type": "stream",
     "text": [
      "0.5%\n"
     ]
    }
   ],
   "source": [
    "# в первый месяц выйдут из строя: а). все детали\n",
    "\n",
    "p = 100*p1*p2*p3\n",
    "print(f'{round(p,3)}%')"
   ]
  },
  {
   "cell_type": "markdown",
   "id": "e01c9194",
   "metadata": {},
   "source": [
    "в первый месяц выйдут из строя: б). только две детали"
   ]
  },
  {
   "cell_type": "markdown",
   "id": "60d40e53",
   "metadata": {},
   "source": [
    "могут выйти из строя:\n",
    "1 и 2 и не вышло 3\n",
    "или\n",
    "1 и 3 и не вышло 2\n",
    "или \n",
    "2 и 3 и не вышло 1"
   ]
  },
  {
   "cell_type": "code",
   "execution_count": 13,
   "id": "cde71eaf",
   "metadata": {},
   "outputs": [
    {
     "name": "stdout",
     "output_type": "stream",
     "text": [
      "8.0%\n"
     ]
    }
   ],
   "source": [
    "#в первый месяц выйдут из строя: б). только две детали\n",
    "p = 100*(p1*p2*(1-p3) + p1*p3*(1-p2) + p2*p3*(1-p1))\n",
    "print(f'{round(p,3)}%')"
   ]
  },
  {
   "cell_type": "markdown",
   "id": "93add190",
   "metadata": {},
   "source": [
    "в первый месяц выйдут из строя: в). хотя бы одна деталь"
   ]
  },
  {
   "cell_type": "markdown",
   "id": "b17e2eb7",
   "metadata": {},
   "source": [
    "хотя бы одна деталь. значит может выйти и 2, и 3 детали. нужно найти вероятность того, что не вышло из строя ни одной детали. и вычесть это из 1.\n"
   ]
  },
  {
   "cell_type": "code",
   "execution_count": 14,
   "id": "cd8db82c",
   "metadata": {},
   "outputs": [
    {
     "name": "stdout",
     "output_type": "stream",
     "text": [
      "46.0%\n"
     ]
    }
   ],
   "source": [
    "# в первый месяц выйдут из строя: в). хотя бы одна деталь\n",
    "p = 100*(1 - (1-p1)*(1-p2)*(1-p3))\n",
    "print(f'{round(p,3)}%')"
   ]
  },
  {
   "cell_type": "markdown",
   "id": "3a2421b1",
   "metadata": {},
   "source": [
    "в первый месяц выйдут из строя:  г). от одной до двух деталей"
   ]
  },
  {
   "cell_type": "code",
   "execution_count": 15,
   "id": "49eb417e",
   "metadata": {},
   "outputs": [
    {
     "data": {
      "text/plain": [
       "0.375"
      ]
     },
     "execution_count": 15,
     "metadata": {},
     "output_type": "execute_result"
    }
   ],
   "source": [
    "# вышла из строя одна деталь\n",
    "p_1 = p1*(1-p2)*(1-p3) + (1-p1)*p2*(1-p3) + (1-p1)*(1-p2)*p3 \n",
    "p_1"
   ]
  },
  {
   "cell_type": "code",
   "execution_count": 16,
   "id": "9e916a49",
   "metadata": {},
   "outputs": [
    {
     "data": {
      "text/plain": [
       "0.08000000000000002"
      ]
     },
     "execution_count": 16,
     "metadata": {},
     "output_type": "execute_result"
    }
   ],
   "source": [
    "# вышли из строя 2 детали\n",
    "p_2 = p1*p2*(1-p3) + p1*(1-p2)*p3 + (1-p1)*p2*p3\n",
    "p_2"
   ]
  },
  {
   "cell_type": "code",
   "execution_count": 17,
   "id": "23df485a",
   "metadata": {},
   "outputs": [
    {
     "name": "stdout",
     "output_type": "stream",
     "text": [
      "45.5%\n"
     ]
    }
   ],
   "source": [
    "# в первый месяц выйдут из строя: г). от одной до двух деталей\n",
    "p = 100*(p_1 + p_2)\n",
    "print(f'{round(p,3)}%')"
   ]
  },
  {
   "cell_type": "code",
   "execution_count": null,
   "id": "85570c95",
   "metadata": {},
   "outputs": [],
   "source": []
  }
 ],
 "metadata": {
  "kernelspec": {
   "display_name": "Python 3 (ipykernel)",
   "language": "python",
   "name": "python3"
  },
  "language_info": {
   "codemirror_mode": {
    "name": "ipython",
    "version": 3
   },
   "file_extension": ".py",
   "mimetype": "text/x-python",
   "name": "python",
   "nbconvert_exporter": "python",
   "pygments_lexer": "ipython3",
   "version": "3.9.7"
  }
 },
 "nbformat": 4,
 "nbformat_minor": 5
}
