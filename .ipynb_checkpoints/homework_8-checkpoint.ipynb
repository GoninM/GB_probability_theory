{
 "cells": [
  {
   "cell_type": "markdown",
   "id": "cda3e24a",
   "metadata": {},
   "source": [
    "<b>\n",
    "Провести дисперсионный анализ для определения того, есть ли различия среднего роста среди взрослых футболистов, хоккеистов и штангистов. Даны значения роста в трех группах случайно выбранных спортсменов: Футболисты: 173, 175, 180, 178, 177, 185, 183, 182. Хоккеисты: 177, 179, 180, 188, 177, 172, 171, 184, 180. Штангисты: 172, 173, 169, 177, 166, 180, 178, 177, 172, 166, 170.\n",
    "</b>"
   ]
  },
  {
   "cell_type": "code",
   "execution_count": 1,
   "id": "4b753a32",
   "metadata": {},
   "outputs": [],
   "source": [
    "import numpy as np\n",
    "from scipy import stats "
   ]
  },
  {
   "cell_type": "code",
   "execution_count": 3,
   "id": "5df20519",
   "metadata": {},
   "outputs": [
    {
     "data": {
      "text/plain": [
       "array([173, 175, 180, 178, 177, 185, 183, 182])"
      ]
     },
     "execution_count": 3,
     "metadata": {},
     "output_type": "execute_result"
    }
   ],
   "source": [
    "football_height = np.array([173, 175, 180, 178, 177, 185, 183, 182])\n",
    "football_height"
   ]
  },
  {
   "cell_type": "code",
   "execution_count": 4,
   "id": "f0cd9110",
   "metadata": {},
   "outputs": [
    {
     "data": {
      "text/plain": [
       "array([177, 179, 180, 188, 177, 172, 171, 184, 180])"
      ]
     },
     "execution_count": 4,
     "metadata": {},
     "output_type": "execute_result"
    }
   ],
   "source": [
    "hockey_height = np.array([177, 179, 180, 188, 177, 172, 171, 184, 180])\n",
    "hockey_height"
   ]
  },
  {
   "cell_type": "code",
   "execution_count": 5,
   "id": "f08d06b8",
   "metadata": {},
   "outputs": [
    {
     "data": {
      "text/plain": [
       "array([172, 173, 169, 177, 166, 180, 178, 177, 172, 166, 170])"
      ]
     },
     "execution_count": 5,
     "metadata": {},
     "output_type": "execute_result"
    }
   ],
   "source": [
    "weightlifter_height = np.array([172, 173, 169, 177, 166, 180, 178, 177, 172, 166, 170])\n",
    "weightlifter_height"
   ]
  },
  {
   "cell_type": "code",
   "execution_count": 7,
   "id": "86825e2f",
   "metadata": {},
   "outputs": [],
   "source": [
    "stats.f_oneway?"
   ]
  },
  {
   "cell_type": "code",
   "execution_count": 10,
   "id": "72a93919",
   "metadata": {},
   "outputs": [],
   "source": [
    "alfa=0.05"
   ]
  },
  {
   "cell_type": "code",
   "execution_count": 9,
   "id": "874b8c21",
   "metadata": {},
   "outputs": [
    {
     "data": {
      "text/plain": [
       "F_onewayResult(statistic=5.500053450812596, pvalue=0.010482206918698694)"
      ]
     },
     "execution_count": 9,
     "metadata": {},
     "output_type": "execute_result"
    }
   ],
   "source": [
    "result = stats.f_oneway(football_height, hockey_height, weightlifter_height)\n",
    "result"
   ]
  },
  {
   "cell_type": "code",
   "execution_count": 14,
   "id": "7cffd6ce",
   "metadata": {},
   "outputs": [
    {
     "name": "stdout",
     "output_type": "stream",
     "text": [
      "Есть статистически значимая зависимость\n"
     ]
    }
   ],
   "source": [
    "if result.pvalue > alfa:\n",
    "    print('Нет статистически значимой зависимости')\n",
    "else:\n",
    "    print('Есть статистически значимая зависимость')"
   ]
  },
  {
   "cell_type": "markdown",
   "id": "ee54d5e8",
   "metadata": {},
   "source": [
    "<b>Прикрепить ссылку на курсовой проект на github. (см. выбор темы в ДЗ к Уроку 6)</b>"
   ]
  },
  {
   "cell_type": "markdown",
   "id": "563d55fa",
   "metadata": {},
   "source": [
    "Своя задача.\n",
    "\n",
    "\n",
    "была взята выборка из 10 BLDC моторов. у каждоо мотора есть 3 обмотки, замерил сопротивлением каждой обмотки и индуктивность каждой обмотки. Хочется на основе этих данных оценить, какой будет доверительный интервал. \n",
    "найти какое будет значение при помощи доверительного интервала. вероятность 95%.\n",
    "Делаю предположение, что все распределено нормально.\n"
   ]
  },
  {
   "cell_type": "code",
   "execution_count": 15,
   "id": "5c76d28e",
   "metadata": {},
   "outputs": [],
   "source": [
    "import pandas as pd"
   ]
  },
  {
   "cell_type": "code",
   "execution_count": null,
   "id": "57f78c2d",
   "metadata": {},
   "outputs": [],
   "source": []
  }
 ],
 "metadata": {
  "kernelspec": {
   "display_name": "Python 3 (ipykernel)",
   "language": "python",
   "name": "python3"
  },
  "language_info": {
   "codemirror_mode": {
    "name": "ipython",
    "version": 3
   },
   "file_extension": ".py",
   "mimetype": "text/x-python",
   "name": "python",
   "nbconvert_exporter": "python",
   "pygments_lexer": "ipython3",
   "version": "3.9.7"
  }
 },
 "nbformat": 4,
 "nbformat_minor": 5
}
