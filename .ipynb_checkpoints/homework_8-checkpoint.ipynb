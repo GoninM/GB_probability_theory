{
 "cells": [
  {
   "cell_type": "markdown",
   "id": "9eb7038c",
   "metadata": {},
   "source": [
    "<b>\n",
    "Провести дисперсионный анализ для определения того, есть ли различия среднего роста среди взрослых футболистов, хоккеистов и штангистов. Даны значения роста в трех группах случайно выбранных спортсменов: Футболисты: 173, 175, 180, 178, 177, 185, 183, 182. Хоккеисты: 177, 179, 180, 188, 177, 172, 171, 184, 180. Штангисты: 172, 173, 169, 177, 166, 180, 178, 177, 172, 166, 170.\n",
    "</b>"
   ]
  },
  {
   "cell_type": "code",
   "execution_count": 1,
   "id": "c3c9d94b",
   "metadata": {},
   "outputs": [],
   "source": [
    "import numpy as np\n",
    "from scipy import stats "
   ]
  },
  {
   "cell_type": "code",
   "execution_count": 3,
   "id": "88c1efc9",
   "metadata": {},
   "outputs": [
    {
     "data": {
      "text/plain": [
       "array([173, 175, 180, 178, 177, 185, 183, 182])"
      ]
     },
     "execution_count": 3,
     "metadata": {},
     "output_type": "execute_result"
    }
   ],
   "source": [
    "football_height = np.array([173, 175, 180, 178, 177, 185, 183, 182])\n",
    "football_height"
   ]
  },
  {
   "cell_type": "code",
   "execution_count": 4,
   "id": "1ed6273e",
   "metadata": {},
   "outputs": [
    {
     "data": {
      "text/plain": [
       "array([177, 179, 180, 188, 177, 172, 171, 184, 180])"
      ]
     },
     "execution_count": 4,
     "metadata": {},
     "output_type": "execute_result"
    }
   ],
   "source": [
    "hockey_height = np.array([177, 179, 180, 188, 177, 172, 171, 184, 180])\n",
    "hockey_height"
   ]
  },
  {
   "cell_type": "code",
   "execution_count": 5,
   "id": "44e30a8f",
   "metadata": {},
   "outputs": [
    {
     "data": {
      "text/plain": [
       "array([172, 173, 169, 177, 166, 180, 178, 177, 172, 166, 170])"
      ]
     },
     "execution_count": 5,
     "metadata": {},
     "output_type": "execute_result"
    }
   ],
   "source": [
    "weightlifter_height = np.array([172, 173, 169, 177, 166, 180, 178, 177, 172, 166, 170])\n",
    "weightlifter_height"
   ]
  },
  {
   "cell_type": "code",
   "execution_count": 7,
   "id": "8fcce064",
   "metadata": {},
   "outputs": [],
   "source": [
    "stats.f_oneway?"
   ]
  },
  {
   "cell_type": "code",
   "execution_count": 10,
   "id": "33af8619",
   "metadata": {},
   "outputs": [],
   "source": [
    "alfa=0.05"
   ]
  },
  {
   "cell_type": "code",
   "execution_count": 9,
   "id": "742ff719",
   "metadata": {},
   "outputs": [
    {
     "data": {
      "text/plain": [
       "F_onewayResult(statistic=5.500053450812596, pvalue=0.010482206918698694)"
      ]
     },
     "execution_count": 9,
     "metadata": {},
     "output_type": "execute_result"
    }
   ],
   "source": [
    "result = stats.f_oneway(football_height, hockey_height, weightlifter_height)\n",
    "result"
   ]
  },
  {
   "cell_type": "code",
   "execution_count": 14,
   "id": "3ed70614",
   "metadata": {},
   "outputs": [
    {
     "name": "stdout",
     "output_type": "stream",
     "text": [
      "Есть статистически значимая зависимость\n"
     ]
    }
   ],
   "source": [
    "if result.pvalue > alfa:\n",
    "    print('Нет статистически значимой зависимости')\n",
    "else:\n",
    "    print('Есть статистически значимая зависимость')"
   ]
  },
  {
   "cell_type": "markdown",
   "id": "fdce99f6",
   "metadata": {},
   "source": [
    "<b>Прикрепить ссылку на курсовой проект на github. (см. выбор темы в ДЗ к Уроку 6)</b>"
   ]
  },
  {
   "cell_type": "code",
   "execution_count": null,
   "id": "92df28d9",
   "metadata": {},
   "outputs": [],
   "source": []
  }
 ],
 "metadata": {
  "kernelspec": {
   "display_name": "Python 3 (ipykernel)",
   "language": "python",
   "name": "python3"
  },
  "language_info": {
   "codemirror_mode": {
    "name": "ipython",
    "version": 3
   },
   "file_extension": ".py",
   "mimetype": "text/x-python",
   "name": "python",
   "nbconvert_exporter": "python",
   "pygments_lexer": "ipython3",
   "version": "3.9.7"
  }
 },
 "nbformat": 4,
 "nbformat_minor": 5
}
