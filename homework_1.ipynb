{
 "cells": [
  {
   "cell_type": "code",
   "execution_count": 1,
   "id": "65d9292c",
   "metadata": {},
   "outputs": [],
   "source": [
    "import numpy as np\n",
    "from math import factorial"
   ]
  },
  {
   "cell_type": "code",
   "execution_count": 2,
   "id": "b37dae34",
   "metadata": {},
   "outputs": [],
   "source": [
    "def combinations(n, k):\n",
    "    return int(factorial(n) / (factorial(k) * factorial(n - k)))"
   ]
  },
  {
   "cell_type": "code",
   "execution_count": 3,
   "id": "00be7888",
   "metadata": {},
   "outputs": [],
   "source": [
    "def arrangements(n, k):\n",
    "    return int(factorial(n) / factorial(n - k))"
   ]
  },
  {
   "cell_type": "code",
   "execution_count": 4,
   "id": "536f920f",
   "metadata": {},
   "outputs": [],
   "source": [
    "def permutations(n):\n",
    "    return int(factorial(n))"
   ]
  },
  {
   "cell_type": "markdown",
   "id": "f250c019",
   "metadata": {},
   "source": [
    "<h5>\n",
    "1. Из колоды в 52 карты извлекаются случайным образом 4 карты. \n",
    "\n",
    "    a) Найти вероятность того, что все карты – крести. \n",
    "\n",
    "\n",
    "</h5>"
   ]
  },
  {
   "cell_type": "markdown",
   "id": "6b482b82",
   "metadata": {},
   "source": [
    "ход рассуждений:\n",
    "чтобы найти вероятность, нам нужно найти отношение кол-ва благобприятных исходов к общему кол-ву исходов.\n",
    "\n",
    "Общее кол-во исхдов (n_total) это кол-во всех возможных комбинаций 4 карт из 52\n",
    "\n",
    "кол-во благоприятных исходов (m_total),это кол-во всех возможных комбинаций трефовых карт из 13 доступных.\n",
    "\n",
    "\n",
    "либо\n",
    "\n",
    "вероятность вытащить 1 карту крестей:\n",
    "P(a1) = 13/52\n",
    "вторую карту:\n",
    "P(a2) = 12/51\n",
    "3-ю:\n",
    "P(a2) = 11/50\n",
    "4-ую: \n",
    "P(a2) = 10/40\n",
    "\n",
    "P = P(a1) * P(a2) * P(a3) * P(a4)\n"
   ]
  },
  {
   "cell_type": "code",
   "execution_count": 5,
   "id": "2c0cb1be",
   "metadata": {},
   "outputs": [
    {
     "data": {
      "text/plain": [
       "270725"
      ]
     },
     "execution_count": 5,
     "metadata": {},
     "output_type": "execute_result"
    }
   ],
   "source": [
    "# n_total\n",
    "n = 52\n",
    "k = 4\n",
    "n_total = combinations(n, k)\n",
    "n_total"
   ]
  },
  {
   "cell_type": "code",
   "execution_count": 6,
   "id": "e2061249",
   "metadata": {},
   "outputs": [
    {
     "data": {
      "text/plain": [
       "715"
      ]
     },
     "execution_count": 6,
     "metadata": {},
     "output_type": "execute_result"
    }
   ],
   "source": [
    "# m_total\n",
    "n = int(52/4)\n",
    "k = 4\n",
    "m_total = combinations(n, k)\n",
    "m_total"
   ]
  },
  {
   "cell_type": "code",
   "execution_count": 7,
   "id": "84339849",
   "metadata": {},
   "outputs": [
    {
     "data": {
      "text/plain": [
       "0.26410564225690275"
      ]
     },
     "execution_count": 7,
     "metadata": {},
     "output_type": "execute_result"
    }
   ],
   "source": [
    "P = 100*m_total/n_total\n",
    "P"
   ]
  },
  {
   "cell_type": "code",
   "execution_count": 8,
   "id": "e8ce6800",
   "metadata": {},
   "outputs": [
    {
     "data": {
      "text/plain": [
       "0.26410564225690275"
      ]
     },
     "execution_count": 8,
     "metadata": {},
     "output_type": "execute_result"
    }
   ],
   "source": [
    "#вариант 2\n",
    "P_version2 = (13/52)*(12/51)*(11/50)*(10/49)*100\n",
    "P_version2"
   ]
  },
  {
   "cell_type": "markdown",
   "id": "8bc7613a",
   "metadata": {},
   "source": [
    " <h5> б) Найти вероятность, что среди 4-х карт окажется хотя бы один туз. </h5>"
   ]
  },
  {
   "cell_type": "markdown",
   "id": "6efcd4ba",
   "metadata": {},
   "source": [
    "Ход рассуждений:\n",
    "хотя бы один туз, значит, что там может быть или 1 туз, или 2 туза, или 3 или 4 туза. \n",
    "\n",
    "Pa1 + Pa2 + Pa3 + Pa4\n"
   ]
  },
  {
   "cell_type": "code",
   "execution_count": 9,
   "id": "144e75ae",
   "metadata": {},
   "outputs": [
    {
     "data": {
      "text/plain": [
       "28.126327454058547"
      ]
     },
     "execution_count": 9,
     "metadata": {},
     "output_type": "execute_result"
    }
   ],
   "source": [
    "P = 100*(combinations(4, 1)*combinations(48, 3)/combinations(52, 4) + \\\n",
    "         combinations(4, 2)*combinations(48, 2)/combinations(52, 4) + \\\n",
    "         combinations(4, 3)*combinations(48, 1)/combinations(52, 4) + \\\n",
    "         combinations(4, 4)/combinations(52, 4)\n",
    "        )\n",
    "P"
   ]
  },
  {
   "cell_type": "markdown",
   "id": "b01f5226",
   "metadata": {},
   "source": [
    "Вариант второй. ищем вероятность того,что не выпало ни одного туза и потом вычитаем из 1"
   ]
  },
  {
   "cell_type": "code",
   "execution_count": 10,
   "id": "9ab0d09b",
   "metadata": {},
   "outputs": [
    {
     "data": {
      "text/plain": [
       "28.12632745405854"
      ]
     },
     "execution_count": 10,
     "metadata": {},
     "output_type": "execute_result"
    }
   ],
   "source": [
    "100*(1 - combinations(48, 4)/combinations(52, 4))"
   ]
  },
  {
   "cell_type": "markdown",
   "id": "3fc5f38c",
   "metadata": {},
   "source": [
    "<h5>\n",
    "2. На входной двери подъезда установлен кодовый замок, содержащий десять кнопок с цифрами от 0 до 9. Код содержит три цифры, которые нужно нажать одновременно. Какова вероятность того, что человек, не знающий код, откроет дверь с первой попытки?\n",
    "</h5>"
   ]
  },
  {
   "cell_type": "code",
   "execution_count": 11,
   "id": "1a502658",
   "metadata": {},
   "outputs": [
    {
     "data": {
      "text/plain": [
       "0.8333333333333333"
      ]
     },
     "execution_count": 11,
     "metadata": {},
     "output_type": "execute_result"
    }
   ],
   "source": [
    "#вариант 1. \n",
    "100*(3/10)*(2/9)*(1/8)"
   ]
  },
  {
   "cell_type": "code",
   "execution_count": 12,
   "id": "ac1d6232",
   "metadata": {},
   "outputs": [
    {
     "data": {
      "text/plain": [
       "0.8333333333333334"
      ]
     },
     "execution_count": 12,
     "metadata": {},
     "output_type": "execute_result"
    }
   ],
   "source": [
    "#вариант 2. одна комбинация из всех возможных комбинаций 3 цифр\n",
    "100*(1/combinations(10, 3))\n"
   ]
  },
  {
   "cell_type": "markdown",
   "id": "b83c6762",
   "metadata": {},
   "source": [
    "<h5>\n",
    "В ящике имеется 15 деталей, из которых 9 окрашены. Рабочий случайным образом извлекает 3 детали. Какова вероятность того, что все извлеченные детали окрашены?\n",
    "</h5>"
   ]
  },
  {
   "cell_type": "code",
   "execution_count": 13,
   "id": "b1c50444",
   "metadata": {},
   "outputs": [
    {
     "data": {
      "text/plain": [
       "18.461538461538463"
      ]
     },
     "execution_count": 13,
     "metadata": {},
     "output_type": "execute_result"
    }
   ],
   "source": [
    "100*(combinations(9, 3)/combinations(15, 3))\n"
   ]
  },
  {
   "cell_type": "code",
   "execution_count": 14,
   "id": "c173b365",
   "metadata": {},
   "outputs": [
    {
     "data": {
      "text/plain": [
       "18.46153846153846"
      ]
     },
     "execution_count": 14,
     "metadata": {},
     "output_type": "execute_result"
    }
   ],
   "source": [
    "100*(9/15)*(8/14)*(7/13)"
   ]
  },
  {
   "cell_type": "markdown",
   "id": "294d25de",
   "metadata": {},
   "source": [
    "<h5>\n",
    "В лотерее 100 билетов. Из них 2 выигрышных. Какова вероятность того, что 2 приобретенных билета окажутся выигрышными?\n",
    "</h5>"
   ]
  },
  {
   "cell_type": "code",
   "execution_count": 15,
   "id": "eacee8af",
   "metadata": {},
   "outputs": [
    {
     "data": {
      "text/plain": [
       "0.0202020202020202"
      ]
     },
     "execution_count": 15,
     "metadata": {},
     "output_type": "execute_result"
    }
   ],
   "source": [
    "100*(1/combinations(100, 2))"
   ]
  },
  {
   "cell_type": "code",
   "execution_count": 16,
   "id": "7c867e79",
   "metadata": {},
   "outputs": [
    {
     "data": {
      "text/plain": [
       "0.020202020202020204"
      ]
     },
     "execution_count": 16,
     "metadata": {},
     "output_type": "execute_result"
    }
   ],
   "source": [
    "100*(2/100)*(1/99)"
   ]
  },
  {
   "cell_type": "code",
   "execution_count": null,
   "id": "8f86091c",
   "metadata": {},
   "outputs": [],
   "source": []
  }
 ],
 "metadata": {
  "kernelspec": {
   "display_name": "Python 3 (ipykernel)",
   "language": "python",
   "name": "python3"
  },
  "language_info": {
   "codemirror_mode": {
    "name": "ipython",
    "version": 3
   },
   "file_extension": ".py",
   "mimetype": "text/x-python",
   "name": "python",
   "nbconvert_exporter": "python",
   "pygments_lexer": "ipython3",
   "version": "3.9.7"
  }
 },
 "nbformat": 4,
 "nbformat_minor": 5
}
