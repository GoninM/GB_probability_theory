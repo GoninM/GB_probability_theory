{
 "cells": [
  {
   "cell_type": "code",
   "execution_count": 1,
   "id": "0ef41bee",
   "metadata": {},
   "outputs": [],
   "source": [
    "import numpy as np\n",
    "from scipy import stats\n"
   ]
  },
  {
   "cell_type": "markdown",
   "id": "730a94b2",
   "metadata": {},
   "source": [
    "<b>Даны значения величины заработной платы заемщиков банка (zp) и значения их поведенческого кредитного скоринга (ks):\n",
    "zp = [35, 45, 190, 200, 40, 70, 54, 150, 120, 110],\n",
    "ks = [401, 574, 874, 919, 459, 739, 653, 902, 746, 832].\n",
    "Найдите ковариацию этих двух величин с помощью элементарных действий, а затем с помощью функции cov из numpy\n",
    "Полученные значения должны быть равны.\n",
    "Найдите коэффициент корреляции Пирсона с помощью ковариации и среднеквадратичных отклонений двух признаков,\n",
    "а затем с использованием функций из библиотек numpy и pandas.</b>"
   ]
  },
  {
   "cell_type": "code",
   "execution_count": 2,
   "id": "f217f539",
   "metadata": {},
   "outputs": [],
   "source": [
    "#значения величины заработной платы заемщиков банка (zp) \n",
    "zp = np.array([35, 45, 190, 200, 40, 70, 54, 150, 120, 110])"
   ]
  },
  {
   "cell_type": "code",
   "execution_count": 3,
   "id": "9962393a",
   "metadata": {},
   "outputs": [],
   "source": [
    "#значения их поведенческого кредитного скоринга (ks)\n",
    "ks = np.array([401, 574, 874, 919, 459, 739, 653, 902, 746, 832])"
   ]
  },
  {
   "cell_type": "markdown",
   "id": "14376d64",
   "metadata": {},
   "source": [
    "$$cov_{XY} = M[(X - M(X))(Y - M(Y))] = M(XY) - M(X)M(Y)=\\overline{X \\cdot Y} - \\overline{X} \\cdot \\overline{Y}$$"
   ]
  },
  {
   "cell_type": "markdown",
   "id": "cc53f6b5",
   "metadata": {},
   "source": [
    "ddof=1"
   ]
  },
  {
   "cell_type": "code",
   "execution_count": 4,
   "id": "fb8579db",
   "metadata": {},
   "outputs": [
    {
     "data": {
      "text/plain": [
       "9157.839999999997"
      ]
     },
     "execution_count": 4,
     "metadata": {},
     "output_type": "execute_result"
    }
   ],
   "source": [
    "cov = np.mean(zp*ks) - np.mean(zp)*np.mean(ks)\n",
    "cov"
   ]
  },
  {
   "cell_type": "code",
   "execution_count": 5,
   "id": "a839aa0f",
   "metadata": {},
   "outputs": [
    {
     "data": {
      "text/plain": [
       "62.31318747531162"
      ]
     },
     "execution_count": 5,
     "metadata": {},
     "output_type": "execute_result"
    }
   ],
   "source": [
    "sigma_zp = np.std(zp, ddof=1)\n",
    "sigma_zp"
   ]
  },
  {
   "cell_type": "code",
   "execution_count": 6,
   "id": "6cb65865",
   "metadata": {},
   "outputs": [
    {
     "data": {
      "text/plain": [
       "183.99544076477068"
      ]
     },
     "execution_count": 6,
     "metadata": {},
     "output_type": "execute_result"
    }
   ],
   "source": [
    "sigma_ks = np.std(ks, ddof=1)\n",
    "sigma_ks"
   ]
  },
  {
   "cell_type": "code",
   "execution_count": 7,
   "id": "c5da2755",
   "metadata": {},
   "outputs": [
    {
     "data": {
      "text/plain": [
       "0.7987410828665242"
      ]
     },
     "execution_count": 7,
     "metadata": {},
     "output_type": "execute_result"
    }
   ],
   "source": [
    "koef_p = cov/(sigma_zp*sigma_ks)\n",
    "koef_p"
   ]
  },
  {
   "cell_type": "code",
   "execution_count": 8,
   "id": "22ce741c",
   "metadata": {},
   "outputs": [
    {
     "data": {
      "text/plain": [
       "array([[ 3882.93333333, 10175.37777778],\n",
       "       [10175.37777778, 33854.32222222]])"
      ]
     },
     "execution_count": 8,
     "metadata": {},
     "output_type": "execute_result"
    }
   ],
   "source": [
    "np.cov(zp, ks, ddof=1)"
   ]
  },
  {
   "cell_type": "markdown",
   "id": "78307d53",
   "metadata": {},
   "source": [
    "ddof=0"
   ]
  },
  {
   "cell_type": "code",
   "execution_count": 9,
   "id": "1313cb4a",
   "metadata": {},
   "outputs": [
    {
     "data": {
      "text/plain": [
       "59.115480206118605"
      ]
     },
     "execution_count": 9,
     "metadata": {},
     "output_type": "execute_result"
    }
   ],
   "source": [
    "sigma_zp = np.std(zp, ddof=0)\n",
    "sigma_zp"
   ]
  },
  {
   "cell_type": "code",
   "execution_count": 10,
   "id": "8a3e8cfe",
   "metadata": {},
   "outputs": [
    {
     "data": {
      "text/plain": [
       "174.55340157098058"
      ]
     },
     "execution_count": 10,
     "metadata": {},
     "output_type": "execute_result"
    }
   ],
   "source": [
    "sigma_ks = np.std(ks, ddof=0)\n",
    "sigma_ks"
   ]
  },
  {
   "cell_type": "code",
   "execution_count": 11,
   "id": "9f93f9fa",
   "metadata": {},
   "outputs": [
    {
     "data": {
      "text/plain": [
       "0.8874900920739158"
      ]
     },
     "execution_count": 11,
     "metadata": {},
     "output_type": "execute_result"
    }
   ],
   "source": [
    "koef_p = cov/(sigma_zp*sigma_ks)\n",
    "koef_p"
   ]
  },
  {
   "cell_type": "code",
   "execution_count": 12,
   "id": "19631058",
   "metadata": {},
   "outputs": [
    {
     "data": {
      "text/plain": [
       "array([[ 3494.64,  9157.84],\n",
       "       [ 9157.84, 30468.89]])"
      ]
     },
     "execution_count": 12,
     "metadata": {},
     "output_type": "execute_result"
    }
   ],
   "source": [
    "np.cov(zp, ks, ddof=0)"
   ]
  },
  {
   "cell_type": "code",
   "execution_count": 13,
   "id": "8c1f50fc",
   "metadata": {},
   "outputs": [
    {
     "data": {
      "text/plain": [
       "array([[1.        , 0.88749009],\n",
       "       [0.88749009, 1.        ]])"
      ]
     },
     "execution_count": 13,
     "metadata": {},
     "output_type": "execute_result"
    }
   ],
   "source": [
    "np.corrcoef(zp, ks)"
   ]
  },
  {
   "cell_type": "code",
   "execution_count": 14,
   "id": "94dd500e",
   "metadata": {},
   "outputs": [],
   "source": [
    "np.cov?"
   ]
  },
  {
   "cell_type": "code",
   "execution_count": null,
   "id": "4d600fad",
   "metadata": {},
   "outputs": [],
   "source": []
  },
  {
   "cell_type": "markdown",
   "id": "5328a8da",
   "metadata": {},
   "source": [
    "<b>Измерены значения IQ выборки студентов,\n",
    "обучающихся в местных технических вузах:\n",
    "131, 125, 115, 122, 131, 115, 107, 99, 125, 111.\n",
    "Известно, что в генеральной совокупности IQ распределен нормально.\n",
    "Найдите доверительный интервал для математического ожидания с надежностью 0.95.</b>"
   ]
  },
  {
   "cell_type": "code",
   "execution_count": 15,
   "id": "f723b7ab",
   "metadata": {},
   "outputs": [
    {
     "data": {
      "text/plain": [
       "array([131, 125, 115, 122, 131, 115, 107,  99, 125, 111])"
      ]
     },
     "execution_count": 15,
     "metadata": {},
     "output_type": "execute_result"
    }
   ],
   "source": [
    "iq_data = np.array([131, 125, 115, 122, 131, 115, 107, 99, 125, 111])\n",
    "iq_data\n"
   ]
  },
  {
   "cell_type": "code",
   "execution_count": 16,
   "id": "51469cc0",
   "metadata": {},
   "outputs": [],
   "source": [
    "confidence = 0.95"
   ]
  },
  {
   "cell_type": "code",
   "execution_count": 17,
   "id": "490935df",
   "metadata": {},
   "outputs": [
    {
     "data": {
      "text/plain": [
       "0.025000000000000022"
      ]
     },
     "execution_count": 17,
     "metadata": {},
     "output_type": "execute_result"
    }
   ],
   "source": [
    "alfa = (1 - confidence)/2\n",
    "alfa"
   ]
  },
  {
   "cell_type": "code",
   "execution_count": 18,
   "id": "9070ea9f",
   "metadata": {},
   "outputs": [],
   "source": [
    "mean, sigma = np.mean(iq_data), np.std(iq_data, ddof=1)"
   ]
  },
  {
   "cell_type": "code",
   "execution_count": 19,
   "id": "3f4f89f6",
   "metadata": {},
   "outputs": [
    {
     "data": {
      "text/plain": [
       "118.1"
      ]
     },
     "execution_count": 19,
     "metadata": {},
     "output_type": "execute_result"
    }
   ],
   "source": [
    "mean"
   ]
  },
  {
   "cell_type": "code",
   "execution_count": 20,
   "id": "5bc6537d",
   "metadata": {},
   "outputs": [
    {
     "data": {
      "text/plain": [
       "10.54566788359614"
      ]
     },
     "execution_count": 20,
     "metadata": {},
     "output_type": "execute_result"
    }
   ],
   "source": [
    "sigma"
   ]
  },
  {
   "cell_type": "code",
   "execution_count": 21,
   "id": "99edcbdf",
   "metadata": {},
   "outputs": [
    {
     "data": {
      "text/plain": [
       "2.2621571627409915"
      ]
     },
     "execution_count": 21,
     "metadata": {},
     "output_type": "execute_result"
    }
   ],
   "source": [
    "t_coef = stats.t.ppf(confidence + alfa, len(iq_data)-1)\n",
    "t_coef"
   ]
  },
  {
   "cell_type": "code",
   "execution_count": 22,
   "id": "b6ba35e8",
   "metadata": {},
   "outputs": [
    {
     "data": {
      "text/plain": [
       "110.55608365158724"
      ]
     },
     "execution_count": 22,
     "metadata": {},
     "output_type": "execute_result"
    }
   ],
   "source": [
    "left=mean-t_coef*sigma/(len(iq_data)**0.5)\n",
    "left"
   ]
  },
  {
   "cell_type": "code",
   "execution_count": 23,
   "id": "a8ecdf11",
   "metadata": {},
   "outputs": [
    {
     "data": {
      "text/plain": [
       "125.64391634841274"
      ]
     },
     "execution_count": 23,
     "metadata": {},
     "output_type": "execute_result"
    }
   ],
   "source": [
    "right=mean+t_coef*sigma/(len(iq_data)**0.5)\n",
    "right"
   ]
  },
  {
   "cell_type": "markdown",
   "id": "f175835c",
   "metadata": {},
   "source": [
    "<b>Известно, что рост футболистов в сборной распределен нормально\n",
    "с дисперсией генеральной совокупности, равной 25 кв.см. Объем выборки равен 27,\n",
    "среднее выборочное составляет 174.2. Найдите доверительный интервал для математического\n",
    "ожидания с надежностью 0.95.</b>"
   ]
  },
  {
   "cell_type": "code",
   "execution_count": 24,
   "id": "7593ba84",
   "metadata": {},
   "outputs": [],
   "source": [
    "N = 27"
   ]
  },
  {
   "cell_type": "code",
   "execution_count": 25,
   "id": "029715e9",
   "metadata": {},
   "outputs": [],
   "source": [
    "disp = 25 # дисперсией генеральной совокупности"
   ]
  },
  {
   "cell_type": "code",
   "execution_count": 26,
   "id": "6d44a777",
   "metadata": {},
   "outputs": [],
   "source": [
    "mean = 174.2"
   ]
  },
  {
   "cell_type": "code",
   "execution_count": 27,
   "id": "b4129fec",
   "metadata": {},
   "outputs": [],
   "source": [
    "confidence = 0.95"
   ]
  },
  {
   "cell_type": "code",
   "execution_count": 28,
   "id": "1317cff7",
   "metadata": {},
   "outputs": [
    {
     "data": {
      "text/plain": [
       "0.050000000000000044"
      ]
     },
     "execution_count": 28,
     "metadata": {},
     "output_type": "execute_result"
    }
   ],
   "source": [
    "alfa = 1-confidence\n",
    "alfa"
   ]
  },
  {
   "cell_type": "code",
   "execution_count": 29,
   "id": "06ea1acd",
   "metadata": {},
   "outputs": [
    {
     "data": {
      "text/plain": [
       "1.959963984540054"
      ]
     },
     "execution_count": 29,
     "metadata": {},
     "output_type": "execute_result"
    }
   ],
   "source": [
    "Zhalfalfa = stats.norm.ppf(confidence+alfa/2)\n",
    "Zhalfalfa"
   ]
  },
  {
   "cell_type": "code",
   "execution_count": 32,
   "id": "0a3dba2b",
   "metadata": {},
   "outputs": [
    {
     "data": {
      "text/plain": [
       "172.3140237765397"
      ]
     },
     "execution_count": 32,
     "metadata": {},
     "output_type": "execute_result"
    }
   ],
   "source": [
    "xleft = mean - Zhalfalfa*disp**0.5/(N**0.5)\n",
    "xleft"
   ]
  },
  {
   "cell_type": "code",
   "execution_count": 33,
   "id": "e85ed7a4",
   "metadata": {},
   "outputs": [
    {
     "data": {
      "text/plain": [
       "176.08597622346028"
      ]
     },
     "execution_count": 33,
     "metadata": {},
     "output_type": "execute_result"
    }
   ],
   "source": [
    "xright = mean + Zhalfalfa*disp**0.5/(N**0.5)\n",
    "xright"
   ]
  },
  {
   "cell_type": "code",
   "execution_count": null,
   "id": "0cd322c4",
   "metadata": {},
   "outputs": [],
   "source": []
  },
  {
   "cell_type": "markdown",
   "id": "d9d91da5",
   "metadata": {},
   "source": [
    "<b>Выберите тему для проектной работы по курсу Теории вероятностей и математической статистики\n",
    "и напишите ее в комментарии к Практическому заданию.</b>"
   ]
  },
  {
   "cell_type": "markdown",
   "id": "5c4e8cff",
   "metadata": {},
   "source": [
    "на днях на работе провел измерение сопротивления и индкутивности обмоток маленького двигателя.\n",
    "сделал измерения 10 двигателей. В результате получил таблицу с 6 столбцами. в каждом столбце значение сопротивления\n",
    "или индуктивности одной из обмоток.\n",
    "предполагаю, что эти значения распределены нормально. думаю попробовать оценить реальное значение сопротивления и\n",
    "индуктивности. типа пример одной из задачек.\n",
    "звучит достаточно просто на самом деле.\n",
    "либо полезу на kagle\n"
   ]
  },
  {
   "cell_type": "code",
   "execution_count": null,
   "id": "a8dc05b9",
   "metadata": {},
   "outputs": [],
   "source": []
  }
 ],
 "metadata": {
  "kernelspec": {
   "display_name": "Python 3 (ipykernel)",
   "language": "python",
   "name": "python3"
  },
  "language_info": {
   "codemirror_mode": {
    "name": "ipython",
    "version": 3
   },
   "file_extension": ".py",
   "mimetype": "text/x-python",
   "name": "python",
   "nbconvert_exporter": "python",
   "pygments_lexer": "ipython3",
   "version": "3.9.7"
  }
 },
 "nbformat": 4,
 "nbformat_minor": 5
}
